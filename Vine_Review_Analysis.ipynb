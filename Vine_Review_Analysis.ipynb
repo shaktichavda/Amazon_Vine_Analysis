{
 "cells": [
  {
   "cell_type": "code",
   "execution_count": 1,
   "metadata": {
    "colab": {
     "base_uri": "https://localhost:8080/"
    },
    "id": "IGgSk2-Rw2ti",
    "outputId": "427a95e5-4050-4acd-f96e-1517b877f70d"
   },
   "outputs": [
    {
     "name": "stdout",
     "output_type": "stream",
     "text": [
      "Get:1 https://cloud.r-project.org/bin/linux/ubuntu bionic-cran40/ InRelease [3,626 B]\n",
      "Ign:2 https://developer.download.nvidia.com/compute/cuda/repos/ubuntu1804/x86_64  InRelease\n",
      "Get:3 http://ppa.launchpad.net/c2d4u.team/c2d4u4.0+/ubuntu bionic InRelease [15.9 kB]\n",
      "Get:4 http://security.ubuntu.com/ubuntu bionic-security InRelease [88.7 kB]\n",
      "Hit:5 http://archive.ubuntu.com/ubuntu bionic InRelease\n",
      "Get:6 http://archive.ubuntu.com/ubuntu bionic-updates InRelease [88.7 kB]\n",
      "Ign:7 https://developer.download.nvidia.com/compute/machine-learning/repos/ubuntu1804/x86_64  InRelease\n",
      "Get:8 https://developer.download.nvidia.com/compute/cuda/repos/ubuntu1804/x86_64  Release [696 B]\n",
      "Hit:9 https://developer.download.nvidia.com/compute/machine-learning/repos/ubuntu1804/x86_64  Release\n",
      "Get:10 https://developer.download.nvidia.com/compute/cuda/repos/ubuntu1804/x86_64  Release.gpg [836 B]\n",
      "Hit:11 http://ppa.launchpad.net/cran/libgit2/ubuntu bionic InRelease\n",
      "Get:12 http://archive.ubuntu.com/ubuntu bionic-backports InRelease [74.6 kB]\n",
      "Get:13 http://ppa.launchpad.net/deadsnakes/ppa/ubuntu bionic InRelease [15.9 kB]\n",
      "Get:14 https://cloud.r-project.org/bin/linux/ubuntu bionic-cran40/ Packages [73.9 kB]\n",
      "Hit:15 http://ppa.launchpad.net/graphics-drivers/ppa/ubuntu bionic InRelease\n",
      "Get:16 http://ppa.launchpad.net/c2d4u.team/c2d4u4.0+/ubuntu bionic/main Sources [1,821 kB]\n",
      "Get:18 http://ppa.launchpad.net/c2d4u.team/c2d4u4.0+/ubuntu bionic/main amd64 Packages [934 kB]\n",
      "Get:19 https://developer.download.nvidia.com/compute/cuda/repos/ubuntu1804/x86_64  Packages [833 kB]\n",
      "Get:20 http://security.ubuntu.com/ubuntu bionic-security/universe amd64 Packages [1,452 kB]\n",
      "Get:21 http://security.ubuntu.com/ubuntu bionic-security/restricted amd64 Packages [691 kB]\n",
      "Get:22 http://security.ubuntu.com/ubuntu bionic-security/main amd64 Packages [2,461 kB]\n",
      "Get:23 http://archive.ubuntu.com/ubuntu bionic-updates/main amd64 Packages [2,898 kB]\n",
      "Get:24 http://archive.ubuntu.com/ubuntu bionic-updates/universe amd64 Packages [2,230 kB]\n",
      "Get:25 http://archive.ubuntu.com/ubuntu bionic-backports/universe amd64 Packages [12.6 kB]\n",
      "Get:26 http://archive.ubuntu.com/ubuntu bionic-backports/main amd64 Packages [11.6 kB]\n",
      "Get:27 http://ppa.launchpad.net/deadsnakes/ppa/ubuntu bionic/main amd64 Packages [45.9 kB]\n",
      "Fetched 13.8 MB in 5s (2,517 kB/s)\n",
      "Reading package lists... Done\n"
     ]
    }
   ],
   "source": [
    "import os\n",
    "# Find the latest version of spark 3.0 from http://www.apache.org/dist/spark/ and enter as the spark version\n",
    "# For example:\n",
    "# spark_version = 'spark-3.0.3'\n",
    "spark_version = 'spark-3.0.3'\n",
    "os.environ['SPARK_VERSION']=spark_version\n",
    "\n",
    "# Install Spark and Java\n",
    "!apt-get update\n",
    "!apt-get install openjdk-11-jdk-headless -qq > /dev/null\n",
    "!wget -q http://www.apache.org/dist/spark/$SPARK_VERSION/$SPARK_VERSION-bin-hadoop2.7.tgz\n",
    "!tar xf $SPARK_VERSION-bin-hadoop2.7.tgz\n",
    "!pip install -q findspark\n",
    "\n",
    "# Set Environment Variables\n",
    "import os\n",
    "os.environ[\"JAVA_HOME\"] = \"/usr/lib/jvm/java-11-openjdk-amd64\"\n",
    "os.environ[\"SPARK_HOME\"] = f\"/content/{spark_version}-bin-hadoop2.7\"\n",
    "\n",
    "# Start a SparkSession\n",
    "import findspark\n",
    "findspark.init()"
   ]
  },
  {
   "cell_type": "code",
   "execution_count": 2,
   "metadata": {
    "colab": {
     "base_uri": "https://localhost:8080/"
    },
    "id": "rJuKFw8K2CfR",
    "outputId": "14759add-be13-4292-a067-36ae359e7dd1"
   },
   "outputs": [
    {
     "name": "stdout",
     "output_type": "stream",
     "text": [
      "+-----------+-----------+--------------+----------+--------------+--------------------+----------------+-----------+-------------+-----------+----+-----------------+--------------------+--------------------+-----------+\n",
      "|marketplace|customer_id|     review_id|product_id|product_parent|       product_title|product_category|star_rating|helpful_votes|total_votes|vine|verified_purchase|     review_headline|         review_body|review_date|\n",
      "+-----------+-----------+--------------+----------+--------------+--------------------+----------------+-----------+-------------+-----------+----+-----------------+--------------------+--------------------+-----------+\n",
      "|         US|   48881148|R215C9BDXTDQOW|B00FR4YQYK|     381800308|SadoTech Model C ...|Home Improvement|          4|            0|          0|   N|                Y|          Four Stars|        good product| 2015-08-31|\n",
      "|         US|   47882936|R1DTPUV1J57YHA|B00439MYYE|     921341748|iSpring T32M 3.2 ...|Home Improvement|          5|            0|          0|   N|                Y|Good price, quick...|Good price, quick...| 2015-08-31|\n",
      "|         US|   44435471| RFAZK5EWKJWOU|B00002N762|      56053291|Schlage F10CS V E...|Home Improvement|          5|            0|          0|   N|                Y|          Five Stars|       Excellent...!| 2015-08-31|\n",
      "|         US|   28377689|R2XT8X0O0WS1AL|B000QFCP1G|     595928517|Citri-Strip QCG73...|Home Improvement|          5|            0|          0|   N|                Y|Although *slightl...|Although *slightl...| 2015-08-31|\n",
      "|         US|   50134766|R14GRNANKO2Y2J|B00WRCRKOI|     417053744|SleekLighting Bul...|Home Improvement|          5|            0|          0|   N|                Y|      Great Adapters|These adapters ar...| 2015-08-31|\n",
      "+-----------+-----------+--------------+----------+--------------+--------------------+----------------+-----------+-------------+-----------+----+-----------------+--------------------+--------------------+-----------+\n",
      "only showing top 5 rows\n",
      "\n"
     ]
    }
   ],
   "source": [
    "from pyspark.sql import SparkSession\n",
    "spark = SparkSession.builder.appName(\"Amazon-Challenge\").config(\"spark.driver.extraClassPath\",\"/content/postgresql-42.2.16.jar\").getOrCreate()\n",
    "from pyspark import SparkFiles\n",
    "url = \"https://s3.amazonaws.com/amazon-reviews-pds/tsv/amazon_reviews_us_Home_Improvement_v1_00.tsv.gz\"\n",
    "spark.sparkContext.addFile(url)\n",
    "df = spark.read.option(\"encoding\", \"UTF-8\").csv(SparkFiles.get(\"\"), sep=\"\\t\", header=True, inferSchema=True)\n",
    "df.show(5)"
   ]
  },
  {
   "cell_type": "code",
   "execution_count": 3,
   "metadata": {
    "colab": {
     "base_uri": "https://localhost:8080/"
    },
    "id": "kisyw5_92eKj",
    "outputId": "19df57ba-157c-4b59-8d22-46cb9bd1f103"
   },
   "outputs": [
    {
     "name": "stdout",
     "output_type": "stream",
     "text": [
      "+--------------+-----------+-------------+-----------+----+-----------------+\n",
      "|     review_id|star_rating|helpful_votes|total_votes|vine|verified_purchase|\n",
      "+--------------+-----------+-------------+-----------+----+-----------------+\n",
      "|R215C9BDXTDQOW|          4|            0|          0|   N|                Y|\n",
      "|R1DTPUV1J57YHA|          5|            0|          0|   N|                Y|\n",
      "| RFAZK5EWKJWOU|          5|            0|          0|   N|                Y|\n",
      "|R2XT8X0O0WS1AL|          5|            0|          0|   N|                Y|\n",
      "|R14GRNANKO2Y2J|          5|            0|          0|   N|                Y|\n",
      "|R2BLF9VYL24LCQ|          5|            1|          1|   N|                Y|\n",
      "|R1GI9UW5KJ671O|          5|            0|          0|   N|                Y|\n",
      "|R2H5CEJN863M86|          5|            0|          1|   N|                Y|\n",
      "| R5PPDHFOZ3SMU|          5|            0|          0|   N|                Y|\n",
      "| RE1L9IENKJJ7Y|          1|            0|          0|   N|                Y|\n",
      "|R3CZ0990QC2Z0H|          5|            0|          0|   N|                Y|\n",
      "|R3UMMD2IO29QSP|          5|            0|          0|   N|                Y|\n",
      "| R541LE5J3OJH2|          5|            0|          0|   N|                Y|\n",
      "|R10KD9FIE6Y1AS|          5|            0|          0|   N|                Y|\n",
      "|R1YT5YG0QG5DCG|          5|            0|          0|   N|                Y|\n",
      "|R207LXJWL40V1S|          4|            0|          0|   N|                Y|\n",
      "| RIDP0ZD7WT9DE|          5|            0|          0|   N|                Y|\n",
      "|R2XJSNZ9219U1Z|          5|            0|          0|   N|                Y|\n",
      "|R2M9F1FVVDOGFL|          5|            0|          0|   N|                Y|\n",
      "|R1QTOSE2BHU2LJ|          3|            1|          2|   N|                Y|\n",
      "+--------------+-----------+-------------+-----------+----+-----------------+\n",
      "only showing top 20 rows\n",
      "\n"
     ]
    }
   ],
   "source": [
    "vine_df = df.select([\"review_id\", \"star_rating\", \"helpful_votes\", \"total_votes\", \"vine\", \"verified_purchase\"])\n",
    "vine_df.show()"
   ]
  },
  {
   "cell_type": "code",
   "execution_count": 4,
   "metadata": {
    "colab": {
     "base_uri": "https://localhost:8080/"
    },
    "id": "dGKbfHQ3201w",
    "outputId": "13a6e3c7-e5d6-4db5-ece3-a80a772555dc"
   },
   "outputs": [
    {
     "name": "stdout",
     "output_type": "stream",
     "text": [
      "+--------------+-----------+-------------+-----------+----+-----------------+\n",
      "|     review_id|star_rating|helpful_votes|total_votes|vine|verified_purchase|\n",
      "+--------------+-----------+-------------+-----------+----+-----------------+\n",
      "|R2VIQ3UX794Q0O|          4|           21|         21|   N|                Y|\n",
      "|R1OA24IIHWF54G|          5|           43|         45|   N|                Y|\n",
      "| RJ7N3OOJR9RL0|          4|           63|         71|   N|                Y|\n",
      "|R1W8778CBXSRU6|          5|           28|         29|   N|                Y|\n",
      "|R2EFAM03SWLIJX|          1|           32|         35|   N|                Y|\n",
      "|R3F8P56ZDJ6PI8|          4|          106|        115|   N|                Y|\n",
      "|R2QYLQEK9UAJQ6|          5|           33|         34|   N|                Y|\n",
      "| RQCC7XNYI014B|          1|           91|         92|   N|                Y|\n",
      "|R2U8FRHRVW5D2C|          5|           23|         23|   N|                N|\n",
      "|R3RJZC5J4VP7AT|          4|           86|         91|   N|                N|\n",
      "|R2KBV3A9X53ULG|          5|           39|         45|   N|                Y|\n",
      "|R18XX6GVZ41CY1|          5|           21|         22|   N|                N|\n",
      "|R3V8NHJWQWOU7S|          5|           27|         27|   N|                Y|\n",
      "|R25FJV7A58YHEM|          1|           19|         22|   N|                Y|\n",
      "|R285Z02CQJJ36C|          3|           45|         48|   N|                Y|\n",
      "| R5UJCOLQBEADG|          1|           31|         35|   N|                Y|\n",
      "|R1KEUH7SZ9BIRK|          1|           20|         20|   N|                Y|\n",
      "|R16U59S8ZJGPLY|          5|           64|         64|   N|                Y|\n",
      "|R233D4SD2MHUZG|          5|           20|         20|   N|                Y|\n",
      "| RVDGV2G8PEUH2|          1|           13|         21|   N|                N|\n",
      "+--------------+-----------+-------------+-----------+----+-----------------+\n",
      "only showing top 20 rows\n",
      "\n"
     ]
    }
   ],
   "source": [
    "#Filter the data and create a new DataFrame or table to retrieve all the rows where the total_votes count is equal to or greater than 20 to pick reviews that are more likely to be helpful and to avoid having division by zero errors later on.\n",
    "helpful_df=vine_df.filter(\"total_votes>=20\")\n",
    "helpful_df.show()"
   ]
  },
  {
   "cell_type": "code",
   "execution_count": 5,
   "metadata": {
    "colab": {
     "base_uri": "https://localhost:8080/"
    },
    "id": "27jlxWzd3QTs",
    "outputId": "e0ce6841-6a41-4fd9-a085-59f81e54da69"
   },
   "outputs": [
    {
     "name": "stdout",
     "output_type": "stream",
     "text": [
      "+--------------+-----------+-------------+-----------+----+-----------------+\n",
      "|     review_id|star_rating|helpful_votes|total_votes|vine|verified_purchase|\n",
      "+--------------+-----------+-------------+-----------+----+-----------------+\n",
      "|R2VIQ3UX794Q0O|          4|           21|         21|   N|                Y|\n",
      "|R1OA24IIHWF54G|          5|           43|         45|   N|                Y|\n",
      "| RJ7N3OOJR9RL0|          4|           63|         71|   N|                Y|\n",
      "|R1W8778CBXSRU6|          5|           28|         29|   N|                Y|\n",
      "|R2EFAM03SWLIJX|          1|           32|         35|   N|                Y|\n",
      "|R3F8P56ZDJ6PI8|          4|          106|        115|   N|                Y|\n",
      "|R2QYLQEK9UAJQ6|          5|           33|         34|   N|                Y|\n",
      "| RQCC7XNYI014B|          1|           91|         92|   N|                Y|\n",
      "|R2U8FRHRVW5D2C|          5|           23|         23|   N|                N|\n",
      "|R3RJZC5J4VP7AT|          4|           86|         91|   N|                N|\n",
      "|R2KBV3A9X53ULG|          5|           39|         45|   N|                Y|\n",
      "|R18XX6GVZ41CY1|          5|           21|         22|   N|                N|\n",
      "|R3V8NHJWQWOU7S|          5|           27|         27|   N|                Y|\n",
      "|R25FJV7A58YHEM|          1|           19|         22|   N|                Y|\n",
      "|R285Z02CQJJ36C|          3|           45|         48|   N|                Y|\n",
      "| R5UJCOLQBEADG|          1|           31|         35|   N|                Y|\n",
      "|R1KEUH7SZ9BIRK|          1|           20|         20|   N|                Y|\n",
      "|R16U59S8ZJGPLY|          5|           64|         64|   N|                Y|\n",
      "|R233D4SD2MHUZG|          5|           20|         20|   N|                Y|\n",
      "| RVDGV2G8PEUH2|          1|           13|         21|   N|                N|\n",
      "+--------------+-----------+-------------+-----------+----+-----------------+\n",
      "only showing top 20 rows\n",
      "\n"
     ]
    }
   ],
   "source": [
    "#Filter the new DataFrame or table created in Step 1 and create a new DataFrame or table to retrieve all the rows where the number of helpful_votes divided by total_votes is equal to or greater than 50%\n",
    "most_helpful_df = helpful_df.filter(helpful_df[\"helpful_votes\"]/helpful_df[\"total_votes\"]>=0.5)\n",
    "most_helpful_df.show()"
   ]
  },
  {
   "cell_type": "code",
   "execution_count": 8,
   "metadata": {
    "colab": {
     "base_uri": "https://localhost:8080/"
    },
    "id": "oKqwotsD461d",
    "outputId": "aa7d87e4-f8f9-4eed-f727-1c8219a9550a"
   },
   "outputs": [
    {
     "name": "stdout",
     "output_type": "stream",
     "text": [
      "+--------------+-----------+-------------+-----------+----+-----------------+\n",
      "|     review_id|star_rating|helpful_votes|total_votes|vine|verified_purchase|\n",
      "+--------------+-----------+-------------+-----------+----+-----------------+\n",
      "|R29V4UDSS053D8|          3|           33|         38|   Y|                N|\n",
      "|R1I2D068WC37PA|          3|           32|         37|   Y|                N|\n",
      "|R13W2U74F67QED|          5|           62|         76|   Y|                N|\n",
      "|R2QI37XFOBKUGD|          4|           24|         33|   Y|                N|\n",
      "|R19F60BB2DNCKN|          5|          170|        174|   Y|                N|\n",
      "+--------------+-----------+-------------+-----------+----+-----------------+\n",
      "only showing top 5 rows\n",
      "\n"
     ]
    }
   ],
   "source": [
    "paid_vine_df= most_helpful_df.filter(most_helpful_df[\"vine\"]==\"Y\")\n",
    "paid_vine_df.show(5)"
   ]
  },
  {
   "cell_type": "code",
   "execution_count": 9,
   "metadata": {
    "colab": {
     "base_uri": "https://localhost:8080/"
    },
    "id": "ctyuV0Zj50vR",
    "outputId": "98d38c22-962a-4b6c-df8a-e76c37563465"
   },
   "outputs": [
    {
     "name": "stdout",
     "output_type": "stream",
     "text": [
      "+--------------+-----------+-------------+-----------+----+-----------------+\n",
      "|     review_id|star_rating|helpful_votes|total_votes|vine|verified_purchase|\n",
      "+--------------+-----------+-------------+-----------+----+-----------------+\n",
      "|R2VIQ3UX794Q0O|          4|           21|         21|   N|                Y|\n",
      "|R1OA24IIHWF54G|          5|           43|         45|   N|                Y|\n",
      "| RJ7N3OOJR9RL0|          4|           63|         71|   N|                Y|\n",
      "|R1W8778CBXSRU6|          5|           28|         29|   N|                Y|\n",
      "|R2EFAM03SWLIJX|          1|           32|         35|   N|                Y|\n",
      "+--------------+-----------+-------------+-----------+----+-----------------+\n",
      "only showing top 5 rows\n",
      "\n"
     ]
    }
   ],
   "source": [
    "unpaid_vine_df= most_helpful_df.filter(most_helpful_df[\"vine\"]==\"N\")\n",
    "unpaid_vine_df.show(5)"
   ]
  },
  {
   "cell_type": "code",
   "execution_count": 12,
   "metadata": {
    "colab": {
     "base_uri": "https://localhost:8080/"
    },
    "id": "1qV1T55N56HQ",
    "outputId": "9299b408-f048-471d-c61f-6e61287cb439"
   },
   "outputs": [
    {
     "name": "stdout",
     "output_type": "stream",
     "text": [
      "for paid vines the total number of reviews is 266.000000\n",
      "total five star reviews is 125.000000\n",
      "five star review percentage is 46.992481\n"
     ]
    }
   ],
   "source": [
    "total_reviews = paid_vine_df.count()\n",
    "five_star_reviews = paid_vine_df.filter(\"star_rating==5\").count()\n",
    "five_star_percentage = (five_star_reviews/total_reviews)*100\n",
    "print(\"for paid vines the total number of reviews is %f\" % total_reviews)\n",
    "print(\"total five star reviews is %f\" % five_star_reviews)\n",
    "print(\"five star review percentage is %f\" % five_star_percentage)"
   ]
  },
  {
   "cell_type": "code",
   "execution_count": 13,
   "metadata": {
    "colab": {
     "base_uri": "https://localhost:8080/"
    },
    "id": "gFhhM2FU8Tac",
    "outputId": "c0cb9cdf-5387-400b-d5f4-8a301e574e80"
   },
   "outputs": [
    {
     "name": "stdout",
     "output_type": "stream",
     "text": [
      "for unpaid vines the total number of reviews is 38829.000000\n",
      "total five star reviews is 18246.000000\n",
      "five star review percentage is 46.990651\n"
     ]
    }
   ],
   "source": [
    "total_reviews = unpaid_vine_df.count()\n",
    "five_star_reviews = unpaid_vine_df.filter(\"star_rating==5\").count()\n",
    "five_star_percentage = (five_star_reviews/total_reviews)*100\n",
    "print(\"for unpaid vines the total number of reviews is %f\" % total_reviews)\n",
    "print(\"total five star reviews is %f\" % five_star_reviews)\n",
    "print(\"five star review percentage is %f\" % five_star_percentage)"
   ]
  }
 ],
 "metadata": {
  "colab": {
   "collapsed_sections": [],
   "name": "Vine_Review_Analysis.ipynb",
   "provenance": []
  },
  "kernelspec": {
   "display_name": "Python 3",
   "language": "python",
   "name": "python3"
  },
  "language_info": {
   "codemirror_mode": {
    "name": "ipython",
    "version": 3
   },
   "file_extension": ".py",
   "mimetype": "text/x-python",
   "name": "python",
   "nbconvert_exporter": "python",
   "pygments_lexer": "ipython3",
   "version": "3.8.8"
  }
 },
 "nbformat": 4,
 "nbformat_minor": 1
}
